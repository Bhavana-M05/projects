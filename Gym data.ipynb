{
 "cells": [
  {
   "cell_type": "code",
   "execution_count": 222,
   "id": "c145d2c8-395b-45cc-9823-eedfe81debcc",
   "metadata": {},
   "outputs": [],
   "source": [
    "import numpy as np\n",
    "import pandas as pd\n",
    "import matplotlib.pyplot as plt\n",
    "import seaborn as sns"
   ]
  },
  {
   "cell_type": "code",
   "execution_count": 223,
   "id": "25349524-a566-4128-bc29-c86f6af0f1ea",
   "metadata": {},
   "outputs": [],
   "source": [
    "data= pd.read_csv(r'C:\\Users\\91781\\Downloads\\powerlifting_dataset.csv')"
   ]
  },
  {
   "cell_type": "code",
   "execution_count": 224,
   "id": "bab13baa-6f1f-4508-979d-31c7b9f442ed",
   "metadata": {},
   "outputs": [
    {
     "data": {
      "text/plain": [
       "(3000, 5)"
      ]
     },
     "execution_count": 224,
     "metadata": {},
     "output_type": "execute_result"
    }
   ],
   "source": [
    "data.shape"
   ]
  },
  {
   "cell_type": "code",
   "execution_count": 225,
   "id": "060725a6-d480-4a26-8f1d-6a720b915d21",
   "metadata": {},
   "outputs": [
    {
     "data": {
      "text/plain": [
       "0    46\n",
       "1    60\n",
       "2    41\n",
       "3    33\n",
       "4    56\n",
       "Name: Age, dtype: int64"
      ]
     },
     "execution_count": 225,
     "metadata": {},
     "output_type": "execute_result"
    }
   ],
   "source": [
    "data['Age'].head()"
   ]
  },
  {
   "cell_type": "code",
   "execution_count": 226,
   "id": "2ef32a5d-b4e1-4c0c-ab54-0ed30b33d71d",
   "metadata": {},
   "outputs": [
    {
     "data": {
      "text/html": [
       "<div>\n",
       "<style scoped>\n",
       "    .dataframe tbody tr th:only-of-type {\n",
       "        vertical-align: middle;\n",
       "    }\n",
       "\n",
       "    .dataframe tbody tr th {\n",
       "        vertical-align: top;\n",
       "    }\n",
       "\n",
       "    .dataframe thead th {\n",
       "        text-align: right;\n",
       "    }\n",
       "</style>\n",
       "<table border=\"1\" class=\"dataframe\">\n",
       "  <thead>\n",
       "    <tr style=\"text-align: right;\">\n",
       "      <th></th>\n",
       "      <th>Lifter Name</th>\n",
       "      <th>Age</th>\n",
       "      <th>Weight Class (kg)</th>\n",
       "      <th>Lift Type</th>\n",
       "      <th>Amount Lifted (kg)</th>\n",
       "    </tr>\n",
       "  </thead>\n",
       "  <tbody>\n",
       "    <tr>\n",
       "      <th>0</th>\n",
       "      <td>Jessica Wilson</td>\n",
       "      <td>46</td>\n",
       "      <td>59</td>\n",
       "      <td>Bench Press</td>\n",
       "      <td>269</td>\n",
       "    </tr>\n",
       "    <tr>\n",
       "      <th>1</th>\n",
       "      <td>John Doe</td>\n",
       "      <td>60</td>\n",
       "      <td>83</td>\n",
       "      <td>Bench Press</td>\n",
       "      <td>179</td>\n",
       "    </tr>\n",
       "    <tr>\n",
       "      <th>2</th>\n",
       "      <td>Emily Davis</td>\n",
       "      <td>41</td>\n",
       "      <td>105</td>\n",
       "      <td>Bench Press</td>\n",
       "      <td>235</td>\n",
       "    </tr>\n",
       "    <tr>\n",
       "      <th>3</th>\n",
       "      <td>Emily Davis</td>\n",
       "      <td>33</td>\n",
       "      <td>66</td>\n",
       "      <td>Squat</td>\n",
       "      <td>359</td>\n",
       "    </tr>\n",
       "    <tr>\n",
       "      <th>4</th>\n",
       "      <td>Laura Taylor</td>\n",
       "      <td>56</td>\n",
       "      <td>74</td>\n",
       "      <td>Deadlift</td>\n",
       "      <td>221</td>\n",
       "    </tr>\n",
       "  </tbody>\n",
       "</table>\n",
       "</div>"
      ],
      "text/plain": [
       "      Lifter Name  Age Weight Class (kg)    Lift Type  Amount Lifted (kg)\n",
       "0  Jessica Wilson   46                59  Bench Press                 269\n",
       "1        John Doe   60                83  Bench Press                 179\n",
       "2     Emily Davis   41               105  Bench Press                 235\n",
       "3     Emily Davis   33                66        Squat                 359\n",
       "4    Laura Taylor   56                74     Deadlift                 221"
      ]
     },
     "execution_count": 226,
     "metadata": {},
     "output_type": "execute_result"
    }
   ],
   "source": [
    "data.head()"
   ]
  },
  {
   "cell_type": "code",
   "execution_count": 227,
   "id": "c46523c0-a808-4272-8890-399bcc416a8f",
   "metadata": {},
   "outputs": [
    {
     "data": {
      "text/html": [
       "<div>\n",
       "<style scoped>\n",
       "    .dataframe tbody tr th:only-of-type {\n",
       "        vertical-align: middle;\n",
       "    }\n",
       "\n",
       "    .dataframe tbody tr th {\n",
       "        vertical-align: top;\n",
       "    }\n",
       "\n",
       "    .dataframe thead th {\n",
       "        text-align: right;\n",
       "    }\n",
       "</style>\n",
       "<table border=\"1\" class=\"dataframe\">\n",
       "  <thead>\n",
       "    <tr style=\"text-align: right;\">\n",
       "      <th></th>\n",
       "      <th>Lifter Name</th>\n",
       "      <th>Age</th>\n",
       "      <th>Weight Class (kg)</th>\n",
       "      <th>Lift Type</th>\n",
       "      <th>Amount Lifted (kg)</th>\n",
       "    </tr>\n",
       "  </thead>\n",
       "  <tbody>\n",
       "    <tr>\n",
       "      <th>2995</th>\n",
       "      <td>John Doe</td>\n",
       "      <td>46</td>\n",
       "      <td>74</td>\n",
       "      <td>Bench Press</td>\n",
       "      <td>246</td>\n",
       "    </tr>\n",
       "    <tr>\n",
       "      <th>2996</th>\n",
       "      <td>Daniel Lee</td>\n",
       "      <td>39</td>\n",
       "      <td>Open</td>\n",
       "      <td>Deadlift</td>\n",
       "      <td>244</td>\n",
       "    </tr>\n",
       "    <tr>\n",
       "      <th>2997</th>\n",
       "      <td>Sarah Thomas</td>\n",
       "      <td>62</td>\n",
       "      <td>Open</td>\n",
       "      <td>Squat</td>\n",
       "      <td>148</td>\n",
       "    </tr>\n",
       "    <tr>\n",
       "      <th>2998</th>\n",
       "      <td>Chris Brown</td>\n",
       "      <td>32</td>\n",
       "      <td>93</td>\n",
       "      <td>Bench Press</td>\n",
       "      <td>333</td>\n",
       "    </tr>\n",
       "    <tr>\n",
       "      <th>2999</th>\n",
       "      <td>Daniel Lee</td>\n",
       "      <td>22</td>\n",
       "      <td>83</td>\n",
       "      <td>Deadlift</td>\n",
       "      <td>280</td>\n",
       "    </tr>\n",
       "  </tbody>\n",
       "</table>\n",
       "</div>"
      ],
      "text/plain": [
       "       Lifter Name  Age Weight Class (kg)    Lift Type  Amount Lifted (kg)\n",
       "2995      John Doe   46                74  Bench Press                 246\n",
       "2996    Daniel Lee   39              Open     Deadlift                 244\n",
       "2997  Sarah Thomas   62              Open        Squat                 148\n",
       "2998   Chris Brown   32                93  Bench Press                 333\n",
       "2999    Daniel Lee   22                83     Deadlift                 280"
      ]
     },
     "execution_count": 227,
     "metadata": {},
     "output_type": "execute_result"
    }
   ],
   "source": [
    "data.tail()"
   ]
  },
  {
   "cell_type": "code",
   "execution_count": 228,
   "id": "039db448-8c20-423d-aa3e-f1bd8e042fdf",
   "metadata": {},
   "outputs": [
    {
     "data": {
      "text/plain": [
       "0    Bench Press\n",
       "1    Bench Press\n",
       "2    Bench Press\n",
       "3          Squat\n",
       "4       Deadlift\n",
       "Name: Lift Type, dtype: object"
      ]
     },
     "execution_count": 228,
     "metadata": {},
     "output_type": "execute_result"
    }
   ],
   "source": [
    "data['Lift Type'].head()"
   ]
  },
  {
   "cell_type": "code",
   "execution_count": 229,
   "id": "839da40e-9215-4d25-883e-9efd9a4c1182",
   "metadata": {},
   "outputs": [
    {
     "data": {
      "text/html": [
       "<div>\n",
       "<style scoped>\n",
       "    .dataframe tbody tr th:only-of-type {\n",
       "        vertical-align: middle;\n",
       "    }\n",
       "\n",
       "    .dataframe tbody tr th {\n",
       "        vertical-align: top;\n",
       "    }\n",
       "\n",
       "    .dataframe thead th {\n",
       "        text-align: right;\n",
       "    }\n",
       "</style>\n",
       "<table border=\"1\" class=\"dataframe\">\n",
       "  <thead>\n",
       "    <tr style=\"text-align: right;\">\n",
       "      <th></th>\n",
       "      <th>Lift Type</th>\n",
       "      <th>Age</th>\n",
       "    </tr>\n",
       "  </thead>\n",
       "  <tbody>\n",
       "    <tr>\n",
       "      <th>0</th>\n",
       "      <td>Bench Press</td>\n",
       "      <td>46</td>\n",
       "    </tr>\n",
       "    <tr>\n",
       "      <th>1</th>\n",
       "      <td>Bench Press</td>\n",
       "      <td>60</td>\n",
       "    </tr>\n",
       "    <tr>\n",
       "      <th>2</th>\n",
       "      <td>Bench Press</td>\n",
       "      <td>41</td>\n",
       "    </tr>\n",
       "    <tr>\n",
       "      <th>3</th>\n",
       "      <td>Squat</td>\n",
       "      <td>33</td>\n",
       "    </tr>\n",
       "    <tr>\n",
       "      <th>4</th>\n",
       "      <td>Deadlift</td>\n",
       "      <td>56</td>\n",
       "    </tr>\n",
       "  </tbody>\n",
       "</table>\n",
       "</div>"
      ],
      "text/plain": [
       "     Lift Type  Age\n",
       "0  Bench Press   46\n",
       "1  Bench Press   60\n",
       "2  Bench Press   41\n",
       "3        Squat   33\n",
       "4     Deadlift   56"
      ]
     },
     "execution_count": 229,
     "metadata": {},
     "output_type": "execute_result"
    }
   ],
   "source": [
    "data[[\"Lift Type\",\"Age\"]].head()"
   ]
  },
  {
   "cell_type": "code",
   "execution_count": 230,
   "id": "12498bcc-053f-45f5-867d-9f64ac2e43b0",
   "metadata": {},
   "outputs": [
    {
     "data": {
      "text/plain": [
       "Index(['Lifter Name', 'Age', 'Weight Class (kg)', 'Lift Type',\n",
       "       'Amount Lifted (kg)'],\n",
       "      dtype='object')"
      ]
     },
     "execution_count": 230,
     "metadata": {},
     "output_type": "execute_result"
    }
   ],
   "source": [
    "data.columns"
   ]
  },
  {
   "cell_type": "code",
   "execution_count": 231,
   "id": "f65ed6d7-12a5-430f-aa3b-b044bf6e67d8",
   "metadata": {},
   "outputs": [
    {
     "name": "stdout",
     "output_type": "stream",
     "text": [
      "<class 'pandas.core.frame.DataFrame'>\n",
      "RangeIndex: 3000 entries, 0 to 2999\n",
      "Data columns (total 5 columns):\n",
      " #   Column              Non-Null Count  Dtype \n",
      "---  ------              --------------  ----- \n",
      " 0   Lifter Name         3000 non-null   object\n",
      " 1   Age                 3000 non-null   int64 \n",
      " 2   Weight Class (kg)   3000 non-null   object\n",
      " 3   Lift Type           3000 non-null   object\n",
      " 4   Amount Lifted (kg)  3000 non-null   int64 \n",
      "dtypes: int64(2), object(3)\n",
      "memory usage: 117.3+ KB\n"
     ]
    }
   ],
   "source": [
    "data.info()"
   ]
  },
  {
   "cell_type": "code",
   "execution_count": 232,
   "id": "4f3496bf-52cc-4805-83a5-045700faf015",
   "metadata": {},
   "outputs": [
    {
     "data": {
      "text/html": [
       "<div>\n",
       "<style scoped>\n",
       "    .dataframe tbody tr th:only-of-type {\n",
       "        vertical-align: middle;\n",
       "    }\n",
       "\n",
       "    .dataframe tbody tr th {\n",
       "        vertical-align: top;\n",
       "    }\n",
       "\n",
       "    .dataframe thead th {\n",
       "        text-align: right;\n",
       "    }\n",
       "</style>\n",
       "<table border=\"1\" class=\"dataframe\">\n",
       "  <thead>\n",
       "    <tr style=\"text-align: right;\">\n",
       "      <th></th>\n",
       "      <th>Age</th>\n",
       "      <th>Amount Lifted (kg)</th>\n",
       "    </tr>\n",
       "  </thead>\n",
       "  <tbody>\n",
       "    <tr>\n",
       "      <th>count</th>\n",
       "      <td>3000.000000</td>\n",
       "      <td>3000.000000</td>\n",
       "    </tr>\n",
       "    <tr>\n",
       "      <th>mean</th>\n",
       "      <td>41.064000</td>\n",
       "      <td>250.332667</td>\n",
       "    </tr>\n",
       "    <tr>\n",
       "      <th>std</th>\n",
       "      <td>13.682628</td>\n",
       "      <td>86.281208</td>\n",
       "    </tr>\n",
       "    <tr>\n",
       "      <th>min</th>\n",
       "      <td>18.000000</td>\n",
       "      <td>100.000000</td>\n",
       "    </tr>\n",
       "    <tr>\n",
       "      <th>25%</th>\n",
       "      <td>29.000000</td>\n",
       "      <td>176.750000</td>\n",
       "    </tr>\n",
       "    <tr>\n",
       "      <th>50%</th>\n",
       "      <td>41.000000</td>\n",
       "      <td>250.000000</td>\n",
       "    </tr>\n",
       "    <tr>\n",
       "      <th>75%</th>\n",
       "      <td>53.000000</td>\n",
       "      <td>325.250000</td>\n",
       "    </tr>\n",
       "    <tr>\n",
       "      <th>max</th>\n",
       "      <td>64.000000</td>\n",
       "      <td>399.000000</td>\n",
       "    </tr>\n",
       "  </tbody>\n",
       "</table>\n",
       "</div>"
      ],
      "text/plain": [
       "               Age  Amount Lifted (kg)\n",
       "count  3000.000000         3000.000000\n",
       "mean     41.064000          250.332667\n",
       "std      13.682628           86.281208\n",
       "min      18.000000          100.000000\n",
       "25%      29.000000          176.750000\n",
       "50%      41.000000          250.000000\n",
       "75%      53.000000          325.250000\n",
       "max      64.000000          399.000000"
      ]
     },
     "execution_count": 232,
     "metadata": {},
     "output_type": "execute_result"
    }
   ],
   "source": [
    "data.describe()"
   ]
  },
  {
   "cell_type": "code",
   "execution_count": 233,
   "id": "610b81f6-4ee8-410b-9d00-85e643071ac3",
   "metadata": {},
   "outputs": [
    {
     "data": {
      "text/html": [
       "<div>\n",
       "<style scoped>\n",
       "    .dataframe tbody tr th:only-of-type {\n",
       "        vertical-align: middle;\n",
       "    }\n",
       "\n",
       "    .dataframe tbody tr th {\n",
       "        vertical-align: top;\n",
       "    }\n",
       "\n",
       "    .dataframe thead th {\n",
       "        text-align: right;\n",
       "    }\n",
       "</style>\n",
       "<table border=\"1\" class=\"dataframe\">\n",
       "  <thead>\n",
       "    <tr style=\"text-align: right;\">\n",
       "      <th></th>\n",
       "      <th>Lifter Name</th>\n",
       "      <th>Age</th>\n",
       "      <th>Weight Class (kg)</th>\n",
       "      <th>Lift Type</th>\n",
       "      <th>Amount Lifted (kg)</th>\n",
       "    </tr>\n",
       "  </thead>\n",
       "  <tbody>\n",
       "    <tr>\n",
       "      <th>0</th>\n",
       "      <td>False</td>\n",
       "      <td>False</td>\n",
       "      <td>False</td>\n",
       "      <td>False</td>\n",
       "      <td>False</td>\n",
       "    </tr>\n",
       "    <tr>\n",
       "      <th>1</th>\n",
       "      <td>False</td>\n",
       "      <td>False</td>\n",
       "      <td>False</td>\n",
       "      <td>False</td>\n",
       "      <td>False</td>\n",
       "    </tr>\n",
       "    <tr>\n",
       "      <th>2</th>\n",
       "      <td>False</td>\n",
       "      <td>False</td>\n",
       "      <td>False</td>\n",
       "      <td>False</td>\n",
       "      <td>False</td>\n",
       "    </tr>\n",
       "    <tr>\n",
       "      <th>3</th>\n",
       "      <td>False</td>\n",
       "      <td>False</td>\n",
       "      <td>False</td>\n",
       "      <td>False</td>\n",
       "      <td>False</td>\n",
       "    </tr>\n",
       "    <tr>\n",
       "      <th>4</th>\n",
       "      <td>False</td>\n",
       "      <td>False</td>\n",
       "      <td>False</td>\n",
       "      <td>False</td>\n",
       "      <td>False</td>\n",
       "    </tr>\n",
       "    <tr>\n",
       "      <th>...</th>\n",
       "      <td>...</td>\n",
       "      <td>...</td>\n",
       "      <td>...</td>\n",
       "      <td>...</td>\n",
       "      <td>...</td>\n",
       "    </tr>\n",
       "    <tr>\n",
       "      <th>2995</th>\n",
       "      <td>False</td>\n",
       "      <td>False</td>\n",
       "      <td>False</td>\n",
       "      <td>False</td>\n",
       "      <td>False</td>\n",
       "    </tr>\n",
       "    <tr>\n",
       "      <th>2996</th>\n",
       "      <td>False</td>\n",
       "      <td>False</td>\n",
       "      <td>False</td>\n",
       "      <td>False</td>\n",
       "      <td>False</td>\n",
       "    </tr>\n",
       "    <tr>\n",
       "      <th>2997</th>\n",
       "      <td>False</td>\n",
       "      <td>False</td>\n",
       "      <td>False</td>\n",
       "      <td>False</td>\n",
       "      <td>False</td>\n",
       "    </tr>\n",
       "    <tr>\n",
       "      <th>2998</th>\n",
       "      <td>False</td>\n",
       "      <td>False</td>\n",
       "      <td>False</td>\n",
       "      <td>False</td>\n",
       "      <td>False</td>\n",
       "    </tr>\n",
       "    <tr>\n",
       "      <th>2999</th>\n",
       "      <td>False</td>\n",
       "      <td>False</td>\n",
       "      <td>False</td>\n",
       "      <td>False</td>\n",
       "      <td>False</td>\n",
       "    </tr>\n",
       "  </tbody>\n",
       "</table>\n",
       "<p>3000 rows × 5 columns</p>\n",
       "</div>"
      ],
      "text/plain": [
       "      Lifter Name    Age  Weight Class (kg)  Lift Type  Amount Lifted (kg)\n",
       "0           False  False              False      False               False\n",
       "1           False  False              False      False               False\n",
       "2           False  False              False      False               False\n",
       "3           False  False              False      False               False\n",
       "4           False  False              False      False               False\n",
       "...           ...    ...                ...        ...                 ...\n",
       "2995        False  False              False      False               False\n",
       "2996        False  False              False      False               False\n",
       "2997        False  False              False      False               False\n",
       "2998        False  False              False      False               False\n",
       "2999        False  False              False      False               False\n",
       "\n",
       "[3000 rows x 5 columns]"
      ]
     },
     "execution_count": 233,
     "metadata": {},
     "output_type": "execute_result"
    }
   ],
   "source": [
    "data.isnull()"
   ]
  },
  {
   "cell_type": "code",
   "execution_count": 234,
   "id": "33ceaf2e-a40f-42e9-aea3-2cb33c798e4a",
   "metadata": {},
   "outputs": [
    {
     "data": {
      "text/plain": [
       "Lifter Name           0\n",
       "Age                   0\n",
       "Weight Class (kg)     0\n",
       "Lift Type             0\n",
       "Amount Lifted (kg)    0\n",
       "dtype: int64"
      ]
     },
     "execution_count": 234,
     "metadata": {},
     "output_type": "execute_result"
    }
   ],
   "source": [
    "data.isna().sum()"
   ]
  },
  {
   "cell_type": "code",
   "execution_count": 235,
   "id": "d9b6ed10-ca46-48b6-b9bd-8966a7c7896d",
   "metadata": {},
   "outputs": [
    {
     "data": {
      "text/html": [
       "<div>\n",
       "<style scoped>\n",
       "    .dataframe tbody tr th:only-of-type {\n",
       "        vertical-align: middle;\n",
       "    }\n",
       "\n",
       "    .dataframe tbody tr th {\n",
       "        vertical-align: top;\n",
       "    }\n",
       "\n",
       "    .dataframe thead th {\n",
       "        text-align: right;\n",
       "    }\n",
       "</style>\n",
       "<table border=\"1\" class=\"dataframe\">\n",
       "  <thead>\n",
       "    <tr style=\"text-align: right;\">\n",
       "      <th></th>\n",
       "      <th>Lifter Name</th>\n",
       "      <th>Age</th>\n",
       "      <th>Weight Class (kg)</th>\n",
       "      <th>Lift Type</th>\n",
       "      <th>Amount Lifted (kg)</th>\n",
       "    </tr>\n",
       "  </thead>\n",
       "  <tbody>\n",
       "    <tr>\n",
       "      <th>2</th>\n",
       "      <td>Emily Davis</td>\n",
       "      <td>41</td>\n",
       "      <td>105</td>\n",
       "      <td>Bench Press</td>\n",
       "      <td>235</td>\n",
       "    </tr>\n",
       "    <tr>\n",
       "      <th>3</th>\n",
       "      <td>Emily Davis</td>\n",
       "      <td>33</td>\n",
       "      <td>66</td>\n",
       "      <td>Squat</td>\n",
       "      <td>359</td>\n",
       "    </tr>\n",
       "    <tr>\n",
       "      <th>4</th>\n",
       "      <td>Laura Taylor</td>\n",
       "      <td>56</td>\n",
       "      <td>74</td>\n",
       "      <td>Deadlift</td>\n",
       "      <td>221</td>\n",
       "    </tr>\n",
       "    <tr>\n",
       "      <th>5</th>\n",
       "      <td>Sarah Thomas</td>\n",
       "      <td>56</td>\n",
       "      <td>74</td>\n",
       "      <td>Squat</td>\n",
       "      <td>264</td>\n",
       "    </tr>\n",
       "    <tr>\n",
       "      <th>6</th>\n",
       "      <td>Emily Davis</td>\n",
       "      <td>40</td>\n",
       "      <td>83</td>\n",
       "      <td>Deadlift</td>\n",
       "      <td>132</td>\n",
       "    </tr>\n",
       "    <tr>\n",
       "      <th>7</th>\n",
       "      <td>Jessica Wilson</td>\n",
       "      <td>25</td>\n",
       "      <td>120</td>\n",
       "      <td>Bench Press</td>\n",
       "      <td>178</td>\n",
       "    </tr>\n",
       "    <tr>\n",
       "      <th>8</th>\n",
       "      <td>Michael Johnson</td>\n",
       "      <td>55</td>\n",
       "      <td>93</td>\n",
       "      <td>Squat</td>\n",
       "      <td>265</td>\n",
       "    </tr>\n",
       "    <tr>\n",
       "      <th>9</th>\n",
       "      <td>Chris Brown</td>\n",
       "      <td>20</td>\n",
       "      <td>66</td>\n",
       "      <td>Bench Press</td>\n",
       "      <td>239</td>\n",
       "    </tr>\n",
       "    <tr>\n",
       "      <th>10</th>\n",
       "      <td>Laura Taylor</td>\n",
       "      <td>31</td>\n",
       "      <td>52</td>\n",
       "      <td>Deadlift</td>\n",
       "      <td>328</td>\n",
       "    </tr>\n",
       "    <tr>\n",
       "      <th>11</th>\n",
       "      <td>Daniel Lee</td>\n",
       "      <td>38</td>\n",
       "      <td>52</td>\n",
       "      <td>Deadlift</td>\n",
       "      <td>347</td>\n",
       "    </tr>\n",
       "    <tr>\n",
       "      <th>12</th>\n",
       "      <td>Matthew Anderson</td>\n",
       "      <td>64</td>\n",
       "      <td>74</td>\n",
       "      <td>Bench Press</td>\n",
       "      <td>398</td>\n",
       "    </tr>\n",
       "    <tr>\n",
       "      <th>13</th>\n",
       "      <td>Matthew Anderson</td>\n",
       "      <td>47</td>\n",
       "      <td>120</td>\n",
       "      <td>Bench Press</td>\n",
       "      <td>396</td>\n",
       "    </tr>\n",
       "    <tr>\n",
       "      <th>14</th>\n",
       "      <td>Jane Smith</td>\n",
       "      <td>50</td>\n",
       "      <td>74</td>\n",
       "      <td>Bench Press</td>\n",
       "      <td>111</td>\n",
       "    </tr>\n",
       "    <tr>\n",
       "      <th>15</th>\n",
       "      <td>Daniel Lee</td>\n",
       "      <td>37</td>\n",
       "      <td>59</td>\n",
       "      <td>Deadlift</td>\n",
       "      <td>133</td>\n",
       "    </tr>\n",
       "    <tr>\n",
       "      <th>16</th>\n",
       "      <td>Laura Taylor</td>\n",
       "      <td>62</td>\n",
       "      <td>74</td>\n",
       "      <td>Deadlift</td>\n",
       "      <td>396</td>\n",
       "    </tr>\n",
       "    <tr>\n",
       "      <th>17</th>\n",
       "      <td>Laura Taylor</td>\n",
       "      <td>62</td>\n",
       "      <td>105</td>\n",
       "      <td>Deadlift</td>\n",
       "      <td>273</td>\n",
       "    </tr>\n",
       "    <tr>\n",
       "      <th>18</th>\n",
       "      <td>Matthew Anderson</td>\n",
       "      <td>40</td>\n",
       "      <td>120</td>\n",
       "      <td>Bench Press</td>\n",
       "      <td>120</td>\n",
       "    </tr>\n",
       "    <tr>\n",
       "      <th>19</th>\n",
       "      <td>Jane Smith</td>\n",
       "      <td>40</td>\n",
       "      <td>83</td>\n",
       "      <td>Deadlift</td>\n",
       "      <td>245</td>\n",
       "    </tr>\n",
       "  </tbody>\n",
       "</table>\n",
       "</div>"
      ],
      "text/plain": [
       "         Lifter Name  Age Weight Class (kg)    Lift Type  Amount Lifted (kg)\n",
       "2        Emily Davis   41               105  Bench Press                 235\n",
       "3        Emily Davis   33                66        Squat                 359\n",
       "4       Laura Taylor   56                74     Deadlift                 221\n",
       "5       Sarah Thomas   56                74        Squat                 264\n",
       "6        Emily Davis   40                83     Deadlift                 132\n",
       "7     Jessica Wilson   25               120  Bench Press                 178\n",
       "8    Michael Johnson   55                93        Squat                 265\n",
       "9        Chris Brown   20                66  Bench Press                 239\n",
       "10      Laura Taylor   31                52     Deadlift                 328\n",
       "11        Daniel Lee   38                52     Deadlift                 347\n",
       "12  Matthew Anderson   64                74  Bench Press                 398\n",
       "13  Matthew Anderson   47               120  Bench Press                 396\n",
       "14        Jane Smith   50                74  Bench Press                 111\n",
       "15        Daniel Lee   37                59     Deadlift                 133\n",
       "16      Laura Taylor   62                74     Deadlift                 396\n",
       "17      Laura Taylor   62               105     Deadlift                 273\n",
       "18  Matthew Anderson   40               120  Bench Press                 120\n",
       "19        Jane Smith   40                83     Deadlift                 245"
      ]
     },
     "execution_count": 235,
     "metadata": {},
     "output_type": "execute_result"
    }
   ],
   "source": [
    "data[data.index.isin(range(2,20))]"
   ]
  },
  {
   "cell_type": "code",
   "execution_count": 236,
   "id": "e3c2f4e6-cbc4-4bda-a703-d781a2609292",
   "metadata": {},
   "outputs": [
    {
     "name": "stdout",
     "output_type": "stream",
     "text": [
      "Lift Type\n",
      "Deadlift       1025\n",
      "Bench Press    1011\n",
      "Squat           964\n",
      "Name: count, dtype: int64\n",
      "++++++++++++\n"
     ]
    }
   ],
   "source": [
    "dt1=data['Lift Type'].value_counts()\n",
    "print(dt1)\n",
    "print(\"++++++++++++\")\n"
   ]
  },
  {
   "cell_type": "code",
   "execution_count": 237,
   "id": "01289ca1-4594-4434-ba59-e1b2814c4530",
   "metadata": {
    "scrolled": true
   },
   "outputs": [
    {
     "name": "stdout",
     "output_type": "stream",
     "text": [
      "Lifter Name\n",
      "Sarah Thomas        SquatSquatSquatSquatSquatBench PressDeadliftBe...\n",
      "Michael Johnson     SquatBench PressSquatBench PressSquatSquatSqua...\n",
      "Laura Taylor        DeadliftDeadliftDeadliftDeadliftDeadliftSquatD...\n",
      "Daniel Lee          DeadliftDeadliftDeadliftDeadliftDeadliftBench ...\n",
      "Emily Davis         Bench PressSquatDeadliftSquatBench PressBench ...\n",
      "John Doe            Bench PressDeadliftSquatDeadliftDeadliftDeadli...\n",
      "Jane Smith          Bench PressDeadliftSquatBench PressSquatSquatD...\n",
      "Chris Brown         Bench PressDeadliftBench PressSquatSquatDeadli...\n",
      "Jessica Wilson      Bench PressBench PressSquatBench PressSquatBen...\n",
      "Matthew Anderson    Bench PressBench PressBench PressBench PressSq...\n",
      "Name: Lift Type, dtype: object\n"
     ]
    }
   ],
   "source": [
    "data2 = data.groupby('Lifter Name')['Lift Type'].sum().sort_values(ascending=False)\n",
    "print(data2)"
   ]
  },
  {
   "cell_type": "code",
   "execution_count": 238,
   "id": "c7ff5f3e-95c2-4856-8a94-096f400c26c6",
   "metadata": {},
   "outputs": [
    {
     "name": "stdout",
     "output_type": "stream",
     "text": [
      "Amount Lifted (kg)\n",
      "276    22\n",
      "138    18\n",
      "223    17\n",
      "244    17\n",
      "100    17\n",
      "       ..\n",
      "301     4\n",
      "382     3\n",
      "160     3\n",
      "108     3\n",
      "105     3\n",
      "Name: count, Length: 300, dtype: int64\n",
      "++++++++++++\n"
     ]
    }
   ],
   "source": [
    "dt2=data['Amount Lifted (kg)'].value_counts()\n",
    "print(dt2)\n",
    "print(\"++++++++++++\")"
   ]
  },
  {
   "cell_type": "code",
   "execution_count": 239,
   "id": "0c774aa3-b4ad-4cdb-819d-c09f7ff4fcc2",
   "metadata": {},
   "outputs": [
    {
     "data": {
      "text/plain": [
       "399"
      ]
     },
     "execution_count": 239,
     "metadata": {},
     "output_type": "execute_result"
    }
   ],
   "source": [
    "data['Amount Lifted (kg)'].max()"
   ]
  },
  {
   "cell_type": "code",
   "execution_count": 240,
   "id": "10502499-bf77-4620-a266-6195dce5454a",
   "metadata": {},
   "outputs": [
    {
     "data": {
      "text/plain": [
       "100"
      ]
     },
     "execution_count": 240,
     "metadata": {},
     "output_type": "execute_result"
    }
   ],
   "source": [
    "data['Amount Lifted (kg)'].min()"
   ]
  },
  {
   "cell_type": "code",
   "execution_count": 241,
   "id": "f88e0aab-84fb-442f-bf3a-bf752a33f2f0",
   "metadata": {},
   "outputs": [
    {
     "data": {
      "text/html": [
       "<div>\n",
       "<style scoped>\n",
       "    .dataframe tbody tr th:only-of-type {\n",
       "        vertical-align: middle;\n",
       "    }\n",
       "\n",
       "    .dataframe tbody tr th {\n",
       "        vertical-align: top;\n",
       "    }\n",
       "\n",
       "    .dataframe thead th {\n",
       "        text-align: right;\n",
       "    }\n",
       "</style>\n",
       "<table border=\"1\" class=\"dataframe\">\n",
       "  <thead>\n",
       "    <tr style=\"text-align: right;\">\n",
       "      <th></th>\n",
       "      <th>Lifter Name</th>\n",
       "      <th>Age</th>\n",
       "      <th>Weight Class (kg)</th>\n",
       "      <th>Lift Type</th>\n",
       "      <th>Amount Lifted (kg)</th>\n",
       "    </tr>\n",
       "  </thead>\n",
       "  <tbody>\n",
       "    <tr>\n",
       "      <th>2778</th>\n",
       "      <td>Matthew Anderson</td>\n",
       "      <td>29</td>\n",
       "      <td>66</td>\n",
       "      <td>Bench Press</td>\n",
       "      <td>399</td>\n",
       "    </tr>\n",
       "    <tr>\n",
       "      <th>2758</th>\n",
       "      <td>Emily Davis</td>\n",
       "      <td>40</td>\n",
       "      <td>83</td>\n",
       "      <td>Squat</td>\n",
       "      <td>399</td>\n",
       "    </tr>\n",
       "    <tr>\n",
       "      <th>2795</th>\n",
       "      <td>Jane Smith</td>\n",
       "      <td>34</td>\n",
       "      <td>52</td>\n",
       "      <td>Deadlift</td>\n",
       "      <td>399</td>\n",
       "    </tr>\n",
       "    <tr>\n",
       "      <th>1207</th>\n",
       "      <td>Michael Johnson</td>\n",
       "      <td>51</td>\n",
       "      <td>93</td>\n",
       "      <td>Bench Press</td>\n",
       "      <td>399</td>\n",
       "    </tr>\n",
       "    <tr>\n",
       "      <th>2105</th>\n",
       "      <td>Michael Johnson</td>\n",
       "      <td>57</td>\n",
       "      <td>93</td>\n",
       "      <td>Squat</td>\n",
       "      <td>399</td>\n",
       "    </tr>\n",
       "  </tbody>\n",
       "</table>\n",
       "</div>"
      ],
      "text/plain": [
       "           Lifter Name  Age Weight Class (kg)    Lift Type  Amount Lifted (kg)\n",
       "2778  Matthew Anderson   29                66  Bench Press                 399\n",
       "2758       Emily Davis   40                83        Squat                 399\n",
       "2795        Jane Smith   34                52     Deadlift                 399\n",
       "1207   Michael Johnson   51                93  Bench Press                 399\n",
       "2105   Michael Johnson   57                93        Squat                 399"
      ]
     },
     "execution_count": 241,
     "metadata": {},
     "output_type": "execute_result"
    }
   ],
   "source": [
    "data1 = data.sort_values(by='Amount Lifted (kg)',ascending=False).head()\n",
    "data1"
   ]
  },
  {
   "cell_type": "code",
   "execution_count": 242,
   "id": "32c35bbf-e4ec-4ee8-bd07-7b69a27a97af",
   "metadata": {},
   "outputs": [
    {
     "name": "stdout",
     "output_type": "stream",
     "text": [
      "       Lifter Name  Age Weight Class (kg) Lift Type  Amount Lifted (kg)\n",
      "4     Laura Taylor   56                74  Deadlift                 221\n",
      "6      Emily Davis   40                83  Deadlift                 132\n",
      "10    Laura Taylor   31                52  Deadlift                 328\n",
      "11      Daniel Lee   38                52  Deadlift                 347\n",
      "15      Daniel Lee   37                59  Deadlift                 133\n",
      "...            ...  ...               ...       ...                 ...\n",
      "2989   Chris Brown   56                52  Deadlift                 182\n",
      "2990  Laura Taylor   23              Open  Deadlift                 287\n",
      "2991      John Doe   64                93  Deadlift                 263\n",
      "2996    Daniel Lee   39              Open  Deadlift                 244\n",
      "2999    Daniel Lee   22                83  Deadlift                 280\n",
      "\n",
      "[1025 rows x 5 columns]\n"
     ]
    }
   ],
   "source": [
    "Dead_lift = data[data['Lift Type'] == 'Deadlift']\n",
    "print(Dead_lift)"
   ]
  },
  {
   "cell_type": "code",
   "execution_count": 243,
   "id": "7a874682-ac9f-4493-acb0-b60b293ed53d",
   "metadata": {},
   "outputs": [
    {
     "name": "stdout",
     "output_type": "stream",
     "text": [
      "          Lifter Name  Age Weight Class (kg)    Lift Type  Amount Lifted (kg)\n",
      "585        Jane Smith   58                74     Deadlift                 399\n",
      "1207  Michael Johnson   51                93  Bench Press                 399\n",
      "1409       Daniel Lee   24                66        Squat                 399\n",
      "1727     Sarah Thomas   51                59     Deadlift                 399\n",
      "2105  Michael Johnson   57                93        Squat                 399\n"
     ]
    }
   ],
   "source": [
    "Top_amount_lifted = data.nlargest(5, 'Amount Lifted (kg)')\n",
    "print(Top_amount_lifted)"
   ]
  },
  {
   "cell_type": "code",
   "execution_count": 244,
   "id": "cdee2062-ef40-4065-a9dd-29dd66d0fb3c",
   "metadata": {},
   "outputs": [
    {
     "data": {
      "text/plain": [
       "Lift Type\n",
       "Deadlift       1025\n",
       "Bench Press    1011\n",
       "Squat           964\n",
       "Name: count, dtype: int64"
      ]
     },
     "execution_count": 244,
     "metadata": {},
     "output_type": "execute_result"
    }
   ],
   "source": [
    "data['Lift Type'].value_counts()"
   ]
  },
  {
   "cell_type": "code",
   "execution_count": 245,
   "id": "dc4682dd-5740-42ea-b67f-ae3fa2018088",
   "metadata": {},
   "outputs": [
    {
     "name": "stdout",
     "output_type": "stream",
     "text": [
      "           Lifter Name  Age Weight Class (kg)    Lift Type  Amount Lifted (kg)\n",
      "1             John Doe   60                83  Bench Press                 179\n",
      "4         Laura Taylor   56                74     Deadlift                 221\n",
      "5         Sarah Thomas   56                74        Squat                 264\n",
      "8      Michael Johnson   55                93        Squat                 265\n",
      "12    Matthew Anderson   64                74  Bench Press                 398\n",
      "...                ...  ...               ...          ...                 ...\n",
      "2989       Chris Brown   56                52     Deadlift                 182\n",
      "2991          John Doe   64                93     Deadlift                 263\n",
      "2992          John Doe   51                52  Bench Press                 170\n",
      "2994      Sarah Thomas   62               105  Bench Press                 191\n",
      "2997      Sarah Thomas   62              Open        Squat                 148\n",
      "\n",
      "[917 rows x 5 columns]\n"
     ]
    }
   ],
   "source": [
    "b = data[data['Age']>50]\n",
    "print(b)"
   ]
  },
  {
   "cell_type": "code",
   "execution_count": 246,
   "id": "11b6df85-8f13-4b57-84fd-d5eca1b93737",
   "metadata": {},
   "outputs": [
    {
     "data": {
      "text/html": [
       "<div>\n",
       "<style scoped>\n",
       "    .dataframe tbody tr th:only-of-type {\n",
       "        vertical-align: middle;\n",
       "    }\n",
       "\n",
       "    .dataframe tbody tr th {\n",
       "        vertical-align: top;\n",
       "    }\n",
       "\n",
       "    .dataframe thead th {\n",
       "        text-align: right;\n",
       "    }\n",
       "</style>\n",
       "<table border=\"1\" class=\"dataframe\">\n",
       "  <thead>\n",
       "    <tr style=\"text-align: right;\">\n",
       "      <th></th>\n",
       "      <th>Lifter Name</th>\n",
       "      <th>Age</th>\n",
       "      <th>Weight Class (kg)</th>\n",
       "      <th>Lift Type</th>\n",
       "      <th>Amount Lifted (kg)</th>\n",
       "    </tr>\n",
       "  </thead>\n",
       "  <tbody>\n",
       "    <tr>\n",
       "      <th>10</th>\n",
       "      <td>Laura Taylor</td>\n",
       "      <td>31</td>\n",
       "      <td>52</td>\n",
       "      <td>Deadlift</td>\n",
       "      <td>328</td>\n",
       "    </tr>\n",
       "    <tr>\n",
       "      <th>11</th>\n",
       "      <td>Daniel Lee</td>\n",
       "      <td>38</td>\n",
       "      <td>52</td>\n",
       "      <td>Deadlift</td>\n",
       "      <td>347</td>\n",
       "    </tr>\n",
       "    <tr>\n",
       "      <th>12</th>\n",
       "      <td>Matthew Anderson</td>\n",
       "      <td>64</td>\n",
       "      <td>74</td>\n",
       "      <td>Bench Press</td>\n",
       "      <td>398</td>\n",
       "    </tr>\n",
       "    <tr>\n",
       "      <th>13</th>\n",
       "      <td>Matthew Anderson</td>\n",
       "      <td>47</td>\n",
       "      <td>120</td>\n",
       "      <td>Bench Press</td>\n",
       "      <td>396</td>\n",
       "    </tr>\n",
       "    <tr>\n",
       "      <th>14</th>\n",
       "      <td>Jane Smith</td>\n",
       "      <td>50</td>\n",
       "      <td>74</td>\n",
       "      <td>Bench Press</td>\n",
       "      <td>111</td>\n",
       "    </tr>\n",
       "    <tr>\n",
       "      <th>15</th>\n",
       "      <td>Daniel Lee</td>\n",
       "      <td>37</td>\n",
       "      <td>59</td>\n",
       "      <td>Deadlift</td>\n",
       "      <td>133</td>\n",
       "    </tr>\n",
       "    <tr>\n",
       "      <th>16</th>\n",
       "      <td>Laura Taylor</td>\n",
       "      <td>62</td>\n",
       "      <td>74</td>\n",
       "      <td>Deadlift</td>\n",
       "      <td>396</td>\n",
       "    </tr>\n",
       "    <tr>\n",
       "      <th>17</th>\n",
       "      <td>Laura Taylor</td>\n",
       "      <td>62</td>\n",
       "      <td>105</td>\n",
       "      <td>Deadlift</td>\n",
       "      <td>273</td>\n",
       "    </tr>\n",
       "    <tr>\n",
       "      <th>18</th>\n",
       "      <td>Matthew Anderson</td>\n",
       "      <td>40</td>\n",
       "      <td>120</td>\n",
       "      <td>Bench Press</td>\n",
       "      <td>120</td>\n",
       "    </tr>\n",
       "    <tr>\n",
       "      <th>19</th>\n",
       "      <td>Jane Smith</td>\n",
       "      <td>40</td>\n",
       "      <td>83</td>\n",
       "      <td>Deadlift</td>\n",
       "      <td>245</td>\n",
       "    </tr>\n",
       "  </tbody>\n",
       "</table>\n",
       "</div>"
      ],
      "text/plain": [
       "         Lifter Name  Age Weight Class (kg)    Lift Type  Amount Lifted (kg)\n",
       "10      Laura Taylor   31                52     Deadlift                 328\n",
       "11        Daniel Lee   38                52     Deadlift                 347\n",
       "12  Matthew Anderson   64                74  Bench Press                 398\n",
       "13  Matthew Anderson   47               120  Bench Press                 396\n",
       "14        Jane Smith   50                74  Bench Press                 111\n",
       "15        Daniel Lee   37                59     Deadlift                 133\n",
       "16      Laura Taylor   62                74     Deadlift                 396\n",
       "17      Laura Taylor   62               105     Deadlift                 273\n",
       "18  Matthew Anderson   40               120  Bench Press                 120\n",
       "19        Jane Smith   40                83     Deadlift                 245"
      ]
     },
     "execution_count": 246,
     "metadata": {},
     "output_type": "execute_result"
    }
   ],
   "source": [
    "data[data.index.isin(range(10,20))]"
   ]
  },
  {
   "cell_type": "code",
   "execution_count": 260,
   "id": "4d397712-97eb-4a62-acf0-a5e6ea37cd4f",
   "metadata": {},
   "outputs": [
    {
     "data": {
      "text/html": [
       "<div>\n",
       "<style scoped>\n",
       "    .dataframe tbody tr th:only-of-type {\n",
       "        vertical-align: middle;\n",
       "    }\n",
       "\n",
       "    .dataframe tbody tr th {\n",
       "        vertical-align: top;\n",
       "    }\n",
       "\n",
       "    .dataframe thead th {\n",
       "        text-align: right;\n",
       "    }\n",
       "</style>\n",
       "<table border=\"1\" class=\"dataframe\">\n",
       "  <thead>\n",
       "    <tr style=\"text-align: right;\">\n",
       "      <th></th>\n",
       "      <th>Lifter Name</th>\n",
       "      <th>Age</th>\n",
       "      <th>Weight Class (kg)</th>\n",
       "      <th>Lift Type</th>\n",
       "      <th>Amount Lifted (kg)</th>\n",
       "    </tr>\n",
       "  </thead>\n",
       "  <tbody>\n",
       "    <tr>\n",
       "      <th>0</th>\n",
       "      <td>Jessica Wilson</td>\n",
       "      <td>46</td>\n",
       "      <td>59</td>\n",
       "      <td>Bench Press</td>\n",
       "      <td>269</td>\n",
       "    </tr>\n",
       "    <tr>\n",
       "      <th>1</th>\n",
       "      <td>John Doe</td>\n",
       "      <td>60</td>\n",
       "      <td>83</td>\n",
       "      <td>Bench Press</td>\n",
       "      <td>179</td>\n",
       "    </tr>\n",
       "    <tr>\n",
       "      <th>2</th>\n",
       "      <td>Emily Davis</td>\n",
       "      <td>41</td>\n",
       "      <td>105</td>\n",
       "      <td>Bench Press</td>\n",
       "      <td>235</td>\n",
       "    </tr>\n",
       "    <tr>\n",
       "      <th>3</th>\n",
       "      <td>Emily Davis</td>\n",
       "      <td>33</td>\n",
       "      <td>66</td>\n",
       "      <td>Squat</td>\n",
       "      <td>359</td>\n",
       "    </tr>\n",
       "    <tr>\n",
       "      <th>4</th>\n",
       "      <td>Laura Taylor</td>\n",
       "      <td>56</td>\n",
       "      <td>74</td>\n",
       "      <td>Deadlift</td>\n",
       "      <td>221</td>\n",
       "    </tr>\n",
       "    <tr>\n",
       "      <th>...</th>\n",
       "      <td>...</td>\n",
       "      <td>...</td>\n",
       "      <td>...</td>\n",
       "      <td>...</td>\n",
       "      <td>...</td>\n",
       "    </tr>\n",
       "    <tr>\n",
       "      <th>2995</th>\n",
       "      <td>John Doe</td>\n",
       "      <td>46</td>\n",
       "      <td>74</td>\n",
       "      <td>Bench Press</td>\n",
       "      <td>246</td>\n",
       "    </tr>\n",
       "    <tr>\n",
       "      <th>2996</th>\n",
       "      <td>Daniel Lee</td>\n",
       "      <td>39</td>\n",
       "      <td>Open</td>\n",
       "      <td>Deadlift</td>\n",
       "      <td>244</td>\n",
       "    </tr>\n",
       "    <tr>\n",
       "      <th>2997</th>\n",
       "      <td>Sarah Thomas</td>\n",
       "      <td>62</td>\n",
       "      <td>Open</td>\n",
       "      <td>Squat</td>\n",
       "      <td>148</td>\n",
       "    </tr>\n",
       "    <tr>\n",
       "      <th>2998</th>\n",
       "      <td>Chris Brown</td>\n",
       "      <td>32</td>\n",
       "      <td>93</td>\n",
       "      <td>Bench Press</td>\n",
       "      <td>333</td>\n",
       "    </tr>\n",
       "    <tr>\n",
       "      <th>2999</th>\n",
       "      <td>Daniel Lee</td>\n",
       "      <td>22</td>\n",
       "      <td>83</td>\n",
       "      <td>Deadlift</td>\n",
       "      <td>280</td>\n",
       "    </tr>\n",
       "  </tbody>\n",
       "</table>\n",
       "<p>3000 rows × 5 columns</p>\n",
       "</div>"
      ],
      "text/plain": [
       "         Lifter Name  Age Weight Class (kg)    Lift Type  Amount Lifted (kg)\n",
       "0     Jessica Wilson   46                59  Bench Press                 269\n",
       "1           John Doe   60                83  Bench Press                 179\n",
       "2        Emily Davis   41               105  Bench Press                 235\n",
       "3        Emily Davis   33                66        Squat                 359\n",
       "4       Laura Taylor   56                74     Deadlift                 221\n",
       "...              ...  ...               ...          ...                 ...\n",
       "2995        John Doe   46                74  Bench Press                 246\n",
       "2996      Daniel Lee   39              Open     Deadlift                 244\n",
       "2997    Sarah Thomas   62              Open        Squat                 148\n",
       "2998     Chris Brown   32                93  Bench Press                 333\n",
       "2999      Daniel Lee   22                83     Deadlift                 280\n",
       "\n",
       "[3000 rows x 5 columns]"
      ]
     },
     "execution_count": 260,
     "metadata": {},
     "output_type": "execute_result"
    }
   ],
   "source": [
    "data.head()\n",
    "data[data[\"Weight Class (kg)\"] == 100]\n",
    "data"
   ]
  },
  {
   "cell_type": "code",
   "execution_count": 262,
   "id": "b68ef916-b079-4beb-9b12-540d428001e1",
   "metadata": {},
   "outputs": [
    {
     "data": {
      "text/plain": [
       "<Axes: xlabel='Weight Class (kg)', ylabel='Count'>"
      ]
     },
     "execution_count": 262,
     "metadata": {},
     "output_type": "execute_result"
    },
    {
     "data": {
      "image/png": "[encoded data removed]",
      "text/plain": [
       "<Figure size 640x480 with 1 Axes>"
      ]
     },
     "metadata": {},
     "output_type": "display_data"
    }
   ],
   "source": [
    "sns.histplot(data[\"Weight Class (kg)\"])"
   ]
  },
  {
   "cell_type": "code",
   "execution_count": 268,
   "id": "f69e0cd9-48a3-4662-85c5-fbd8866328c6",
   "metadata": {},
   "outputs": [
    {
     "data": {
      "text/plain": [
       "<seaborn.axisgrid.PairGrid at 0x2412d260f80>"
      ]
     },
     "execution_count": 268,
     "metadata": {},
     "output_type": "execute_result"
    },
    {
     "data": {
      "image/png": "[encoded data removed]",
      "text/plain": [
       "<Figure size 500x500 with 6 Axes>"
      ]
     },
     "metadata": {},
     "output_type": "display_data"
    }
   ],
   "source": [
    "data1=data.head(20)\n",
    "sns.pairplot(data1[['Weight Class (kg)', 'Age', 'Lift Type', 'Lifter Name','Amount Lifted (kg)']])"
   ]
  },
  {
   "cell_type": "code",
   "execution_count": null,
   "id": "05f34d19-5441-4860-adc2-cd118dd5ac75",
   "metadata": {},
   "outputs": [],
   "source": []
  }
 ],
 "metadata": {
  "kernelspec": {
   "display_name": "Python 3 (ipykernel)",
   "language": "python",
   "name": "python3"
  },
  "language_info": {
   "codemirror_mode": {
    "name": "ipython",
    "version": 3
   },
   "file_extension": ".py",
   "mimetype": "text/x-python",
   "name": "python",
   "nbconvert_exporter": "python",
   "pygments_lexer": "ipython3",
   "version": "3.12.4"
  }
 },
 "nbformat": 4,
 "nbformat_minor": 5
}
